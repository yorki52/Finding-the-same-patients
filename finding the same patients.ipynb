{
 "cells": [
  {
   "cell_type": "code",
   "execution_count": 1,
   "metadata": {},
   "outputs": [],
   "source": [
    "import numpy as np\n",
    "import pandas as pd\n",
    "path = 'C:/Users/these/Downloads/df/new/'\n",
    "df1 = pd.read_excel(path + 'ТАБНАУКА22.xlsx')\n",
    "df2 = pd.read_excel(path + 'Отчет2021умо.xlsx') "
   ]
  },
  {
   "cell_type": "code",
   "execution_count": null,
   "metadata": {},
   "outputs": [],
   "source": [
    "FIO = []                                     #для первой таблицы добавление столбца FIO (фамилия с маленькой буквы)\n",
    "for i in range(1,len(df1['ФИО'])+1):\n",
    "    FIO.append(df1['ФИО'][i-1].split(' '))\n",
    "FIO2 = []\n",
    "for i in range(len(FIO)):\n",
    "    FIO2.append(FIO[i][0])\n",
    "FIO3 = []\n",
    "for i in FIO2:\n",
    "    FIO3.append(i.lower())\n",
    "idx = 0\n",
    "df1.insert(loc=idx, column='FIO', value=FIO3)\n",
    "#df1.drop(['ФИО'],axis = 1)"
   ]
  },
  {
   "cell_type": "code",
   "execution_count": null,
   "metadata": {},
   "outputs": [],
   "source": [
    "FIO = []                                      #для 2-й таблицы добавление столбца FIO (фамилия с маленькой буквы)\n",
    "for i in range(1,len(df2['ФИО'])+1):\n",
    "    FIO.append(df2['ФИО'][i-1].split(' '))\n",
    "FIO2 = []\n",
    "for i in range(len(FIO)):\n",
    "    FIO2.append(FIO[i][0])\n",
    "FIO3 = []\n",
    "for i in FIO2:\n",
    "    FIO3.append(i.lower())\n",
    "idx = 0\n",
    "df2.insert(loc=idx, column='FIO', value=FIO3)\n",
    "#df2.drop(['ФИО'],axis = 1)"
   ]
  },
  {
   "cell_type": "code",
   "execution_count": null,
   "metadata": {},
   "outputs": [],
   "source": [
    "from tqdm import tqdm                      #поиск повторяющихся ЛЮДЕЙ по fio и росту\n",
    "a = []\n",
    "b = []\n",
    "for i in tqdm(range(len(df2['FIO']))):\n",
    "    for g in range(len(df1['FIO'])):\n",
    "        if df2['FIO'][i] == df1['FIO'][g] and df2['Рост'][i] == df1['Рост'][g]:\n",
    "            a.append(df1.loc[g])\n",
    "            b.append(df2.loc[i])\n",
    "df3,df4 = [],[]\n",
    "df3,df4 = pd.DataFrame(a),pd.DataFrame(b)\n",
    "df3, df4 = df3.drop_duplicates(),df4.drop_duplicates()\n",
    "df3.index, df4.index= np.arange(0,len(df3)), np.arange(0,len(df4)) \n"
   ]
  },
  {
   "cell_type": "code",
   "execution_count": null,
   "metadata": {},
   "outputs": [],
   "source": []
  },
  {
   "cell_type": "code",
   "execution_count": null,
   "metadata": {},
   "outputs": [],
   "source": []
  },
  {
   "cell_type": "code",
   "execution_count": null,
   "metadata": {},
   "outputs": [],
   "source": []
  },
  {
   "cell_type": "code",
   "execution_count": null,
   "metadata": {},
   "outputs": [],
   "source": []
  },
  {
   "cell_type": "code",
   "execution_count": null,
   "metadata": {},
   "outputs": [],
   "source": []
  },
  {
   "cell_type": "code",
   "execution_count": null,
   "metadata": {},
   "outputs": [],
   "source": []
  },
  {
   "cell_type": "code",
   "execution_count": null,
   "metadata": {},
   "outputs": [],
   "source": []
  },
  {
   "cell_type": "code",
   "execution_count": null,
   "metadata": {},
   "outputs": [],
   "source": []
  },
  {
   "cell_type": "code",
   "execution_count": null,
   "metadata": {},
   "outputs": [],
   "source": []
  },
  {
   "cell_type": "code",
   "execution_count": null,
   "metadata": {},
   "outputs": [],
   "source": []
  },
  {
   "cell_type": "code",
   "execution_count": null,
   "metadata": {},
   "outputs": [],
   "source": []
  }
 ],
 "metadata": {
  "kernelspec": {
   "display_name": "Python 3",
   "language": "python",
   "name": "python3"
  },
  "language_info": {
   "codemirror_mode": {
    "name": "ipython",
    "version": 3
   },
   "file_extension": ".py",
   "mimetype": "text/x-python",
   "name": "python",
   "nbconvert_exporter": "python",
   "pygments_lexer": "ipython3",
   "version": "3.7.6"
  }
 },
 "nbformat": 4,
 "nbformat_minor": 4
}
